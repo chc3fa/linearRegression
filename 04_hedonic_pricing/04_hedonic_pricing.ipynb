{
 "cells": [
  {
   "cell_type": "markdown",
   "metadata": {
    "vscode": {
     "languageId": "bat"
    }
   },
   "source": [
    "# Hedonic Pricing\n",
    "\n",
    "We often try to predict the price of an asset from its observable characteristics. This is generally called **hedonic pricing**: How do the unit's characteristics determine its market price?\n",
    "\n",
    "In the lab folder, there are three options: housing prices in pierce_county_house_sales.csv, car prices in cars_hw.csv, and airbnb rental prices in airbnb_hw.csv. If you know of another suitable dataset, please feel free to use that one.\n",
    "\n",
    "1. Clean the data and perform some EDA and visualization to get to know the data set.\n",
    "2. Transform your variables --- particularly categorical ones --- for use in your regression analysis.\n",
    "3. Implement an ~80/~20 train-test split. Put the test data aside.\n",
    "4. Build some simple linear models that include no transformations or interactions. Fit them, and determine their RMSE and $R^2$ on the both the training and test sets. Which of your models does the best?\n",
    "5. Include transformations and interactions, and build a more complex model that reflects your ideas about how the features of the asset determine its value. Determine its RMSE and $R^2$ on the training and test sets. How does the more complex model your build compare to the simpler ones?\n",
    "6. Summarize your results from 1 to 5. Have you learned anything about overfitting and underfitting, or model selection?\n",
    "7. If you have time, use the sklearn.linear_model.Lasso to regularize your model and select the most predictive features. Which does it select? What are the RMSE and $R^2$? We'll cover the Lasso later in detail in class.\n",
    "\n"
   ]
  },
  {
   "cell_type": "code",
   "execution_count": 56,
   "metadata": {},
   "outputs": [
    {
     "data": {
      "image/png": "[encoded data removed]",
      "text/plain": [
       "<Figure size 432x288 with 1 Axes>"
      ]
     },
     "metadata": {
      "needs_background": "light"
     },
     "output_type": "display_data"
    },
    {
     "data": {
      "image/png": "[encoded data removed]",
      "text/plain": [
       "<Figure size 432x288 with 1 Axes>"
      ]
     },
     "metadata": {
      "needs_background": "light"
     },
     "output_type": "display_data"
    },
    {
     "name": "stdout",
     "output_type": "stream",
     "text": [
      "          variable   coefficient\n",
      "0   Make_Year_2011 -1.474316e+18\n",
      "1   Make_Year_2012 -1.474316e+18\n",
      "2   Make_Year_2013 -1.474316e+18\n",
      "3   Make_Year_2014 -1.474316e+18\n",
      "4   Make_Year_2015 -1.474316e+18\n",
      "5   Make_Year_2016 -1.474316e+18\n",
      "6   Make_Year_2017 -1.474316e+18\n",
      "7   Make_Year_2018 -1.474316e+18\n",
      "8   Make_Year_2019 -1.474316e+18\n",
      "9   Make_Year_2020 -1.474316e+18\n",
      "10  Make_Year_2021 -1.474316e+18\n",
      "11  Make_Year_2022 -1.474316e+18\n",
      "12  No_of_Owners_1  1.474316e+18\n",
      "13  No_of_Owners_2  1.474316e+18\n",
      "14  No_of_Owners_3  1.474316e+18\n",
      "RSquared1 is : 0.31318219710719464\n",
      "RMSE1 is: 307093.48671539815\n",
      "RSquared: 0.5423455530566699\n",
      "RMSE: 250679.4174481375\n",
      "               variable  coefficient\n",
      "0        Make_Year_2012     0.005898\n",
      "1        Make_Year_2013    -0.398717\n",
      "2        Make_Year_2014     0.082300\n",
      "3        Make_Year_2015     0.487077\n",
      "4        Make_Year_2016     0.475654\n",
      "..                  ...          ...\n",
      "887   Mileage_Run_99495     0.152805\n",
      "888  Seating_Capacity_5    -0.461254\n",
      "889  Seating_Capacity_6     0.153398\n",
      "890  Seating_Capacity_7    -0.275025\n",
      "891  Seating_Capacity_8    -0.587322\n",
      "\n",
      "[892 rows x 2 columns]\n",
      "RSquared3 is: 0.4513417477133923\n",
      "RMSE2 is: 0.3290175165482334\n",
      "RMSE3 is: 0.3290175165482334\n"
     ]
    }
   ],
   "source": [
    "import pandas as pd\n",
    "import seaborn as sns\n",
    "import numpy as np\n",
    "import matplotlib.pyplot as plt\n",
    "from sklearn.model_selection import train_test_split\n",
    "from sklearn import linear_model\n",
    "#1.\n",
    "df = pd.read_csv(\"cars_hw.csv\")\n",
    "# df.head()\n",
    "df['No_of_Owners'] = df['No_of_Owners'].str.extract('(\\d+)').astype(int)\n",
    "df.head()\n",
    "# df.describe()\n",
    "# print(max(df['No_of_Owners'])) #incase some had multiple digits, not just 0-9 since used \\d to extract single digits\n",
    "\n",
    "sns.histplot(df['Price'])\n",
    "plt.xlabel('Price')\n",
    "plt.ylabel('Frequency')\n",
    "plt.show()\n",
    "\n",
    "sns.boxplot(data=df, x='Body_Type', y='Price')\n",
    "plt.xlabel('Body Type')\n",
    "plt.ylabel('Price')\n",
    "plt.show()\n",
    "\n",
    "#2\n",
    "df['Mileage_transform'] = np.log(df['Mileage_Run'])\n",
    "\n",
    "\n",
    "#3\n",
    "y = df['Price']\n",
    "# x = df.loc[:,['Make_Year', 'Body_Type', 'mileage_transform'] ]\n",
    "X = df.loc[:,['Make_Year', 'Mileage_Run'] ]\n",
    "X = pd.get_dummies(X, columns=['Make_Year', 'Mileage_Run'], dtype=int)\n",
    "\n",
    "X_train, X_test, y_train, y_test = train_test_split(X,y, test_size=.2, random_state=100)\n",
    "\n",
    "#4\n",
    "\n",
    "X2 = df.loc[:, ['Make_Year','No_of_Owners']]\n",
    "X2 =  pd.get_dummies(X2, columns=['Make_Year', 'No_of_Owners'], dtype=int)\n",
    "X_train, X_test, y_train, y_test = train_test_split(X2,y, test_size=.2, random_state=100)\n",
    "regression = linear_model.LinearRegression(fit_intercept=False).fit(X_train, y_train)\n",
    "y_hat = regression.predict(X_test)\n",
    "\n",
    "\n",
    "results = pd.DataFrame({'variable': regression.feature_names_in_, 'coefficient': regression.coef_})\n",
    "print(results)\n",
    "rSquared = regression.score(X_test, y_test)\n",
    "RMSE = np.sqrt(np.mean((y_test - y_hat) ** 2))\n",
    "\n",
    "print('RSquared1 is :', rSquared)\n",
    "print('RMSE1 is:', RMSE)\n",
    "\n",
    "X = df.loc[:,['Make_Year', 'Mileage_Run'] ]\n",
    "X = pd.get_dummies(X, columns=['Make_Year', 'Mileage_Run'], dtype=int)\n",
    "X_train, X_test, y_train, y_test = train_test_split(X,y, test_size=.2, random_state=100)\n",
    "regression1 = linear_model.LinearRegression(fit_intercept=False).fit(X_train, y_train)\n",
    "y_hat = regression1.predict(X_test)\n",
    "\n",
    "results = pd.DataFrame({'variable': regression1.feature_names_in_, 'coefficient': regression1.coef_})\n",
    "# print(results)\n",
    "rSquared = regression1.score(X_test, y_test)\n",
    "RMSE = np.sqrt(np.mean((y_test - y_hat) ** 2))\n",
    "\n",
    "print('RSquared:', rSquared)\n",
    "print('RMSE:', RMSE)\n",
    "\n",
    "#Out of the 2 models the second one performed better, likely because mileage a car has is one of biggest factors that correlates to price\n",
    "\n",
    "\n",
    "\n",
    "\n",
    "#5\n",
    "# y = df['Price']\n",
    "y = np.log(df['Price'])\n",
    "X = df.loc[:,['Make_Year', 'Mileage_Run', 'Seating_Capacity'] ]\n",
    "X = pd.get_dummies(X, columns=['Make_Year', 'Mileage_Run', 'Seating_Capacity'], dtype=int, drop_first=True)\n",
    "\n",
    "X_train, X_test, y_train, y_test = train_test_split(X,y, test_size=.2, random_state=100)\n",
    "\n",
    "\n",
    "regression2 = linear_model.LinearRegression(fit_intercept=True).fit(X_train, y_train)\n",
    "y_hat = regression2.predict(X_test)\n",
    "y_hat2 = regression2.predict(X_train)\n",
    "\n",
    "results2 = pd.DataFrame({'variable': regression2.feature_names_in_, 'coefficient': regression2.coef_})\n",
    "print(results2)\n",
    "rSquared2 = regression2.score(X_test, y_test)\n",
    "RMSE2 = np.sqrt(np.mean((y_test - y_hat) ** 2))\n",
    "\n",
    "print('RSquared3 is:', rSquared2)\n",
    "print('RMSE2 is:', RMSE2)\n",
    "\n",
    "rSquared2 = regression2.score(X_train, y_train)\n",
    "RMSE3 = np.sqrt(np.mean((y_train - y_hat2) ** 2))\n",
    "print('RMSE3 is:', RMSE2)\n",
    "\n",
    "# 6\n",
    "# The more complex model was overfitting probably due to more complexity by adding the number fo seats (Seating _Capacity column) which may have complicated the model\n",
    "# more and led to changes when applied with a car of certain age and with certain number of miles.\n",
    "\n"
   ]
  },
  {
   "cell_type": "code",
   "execution_count": null,
   "metadata": {},
   "outputs": [],
   "source": []
  }
 ],
 "metadata": {
  "kernelspec": {
   "display_name": "Python 3.9.12 ('base')",
   "language": "python",
   "name": "python3"
  },
  "language_info": {
   "codemirror_mode": {
    "name": "ipython",
    "version": 3
   },
   "file_extension": ".py",
   "mimetype": "text/x-python",
   "name": "python",
   "nbconvert_exporter": "python",
   "pygments_lexer": "ipython3",
   "version": "3.9.12"
  },
  "vscode": {
   "interpreter": {
    "hash": "317be54081e4a1796c7d85ce90db902ddb84434b38a99bb6cb53d1ca93569633"
   }
  }
 },
 "nbformat": 4,
 "nbformat_minor": 2
}
